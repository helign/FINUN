{
  "cells": [
    {
      "cell_type": "markdown",
      "metadata": {
        "id": "view-in-github",
        "colab_type": "text"
      },
      "source": [
        "<a href=\"https://colab.research.google.com/github/helign/FINUN/blob/main/01_1_classic_preprocessing.ipynb\" target=\"_parent\"><img src=\"https://colab.research.google.com/assets/colab-badge.svg\" alt=\"Open In Colab\"/></a>"
      ]
    },
    {
      "cell_type": "markdown",
      "id": "28bd3bfb",
      "metadata": {
        "id": "28bd3bfb"
      },
      "source": [
        "# Базовая обработка текста\n",
        "\n",
        "__Автор задач: Блохин Н.В. (NVBlokhin@fa.ru)__\n",
        "\n",
        "Материалы:\n",
        "* https://www.nltk.org/api/nltk.html\n",
        "* https://pymorphy2.readthedocs.io/en/stable/\n",
        "* https://docs.python.org/3/library/re.html\n",
        "* https://regex101.com/"
      ]
    },
    {
      "cell_type": "markdown",
      "id": "afcdb9cf",
      "metadata": {
        "id": "afcdb9cf"
      },
      "source": [
        "## Задачи для совместного разбора"
      ]
    },
    {
      "cell_type": "markdown",
      "id": "b810046a",
      "metadata": {
        "id": "b810046a"
      },
      "source": [
        "1. Найдите все суммы (число плюс валюта), которые упоминаются в данном тексте. Выведите результат в виде списка кортежей из двух элементов (число, валюта)"
      ]
    },
    {
      "cell_type": "code",
      "execution_count": null,
      "id": "5d4db2e3",
      "metadata": {
        "id": "5d4db2e3"
      },
      "outputs": [],
      "source": [
        "text = '''During my trip to Europe, I exchanged $10.50 for €20,00 at the currency exchange booth.\n",
        "With ¥5000, I bought some souvenirs from a local market.\n",
        "Later, I treated myself to a delicious meal at a restaurant, which cost me £15,99.\n",
        "Finally, I converted 100₹ into the local currency to buy a traditional Indian artwork.'''"
      ]
    },
    {
      "cell_type": "code",
      "source": [
        "import re\n",
        "\n",
        "patt = re.compile(r\"([$€£¥₹]?)(\\d+[.,]?\\d+)([$€£¥₹]?)\")\n",
        "result = patt.findall(text)\n",
        "[(c1 or c2, v) for c1, v, c2 in result]"
      ],
      "metadata": {
        "colab": {
          "base_uri": "https://localhost:8080/"
        },
        "id": "aUJCtROraEr1",
        "outputId": "90a627f0-b47e-4bea-ca0d-783a6ec17c10"
      },
      "id": "aUJCtROraEr1",
      "execution_count": null,
      "outputs": [
        {
          "output_type": "execute_result",
          "data": {
            "text/plain": [
              "[('$', '10.50'), ('€', '20,00'), ('¥', '5000'), ('£', '15,99'), ('₹', '100')]"
            ]
          },
          "metadata": {},
          "execution_count": 11
        }
      ]
    },
    {
      "cell_type": "markdown",
      "id": "d213a50f",
      "metadata": {
        "id": "d213a50f"
      },
      "source": [
        "2\\. Выясните, встречается ли в представленном фрагменте текста тавтология."
      ]
    },
    {
      "cell_type": "code",
      "execution_count": null,
      "id": "35f8f597",
      "metadata": {
        "id": "35f8f597"
      },
      "outputs": [],
      "source": [
        "text = '''Вода - это жидкость, которая имеет свойство быть водой.\n",
        "Она состоит из молекул, которые образуют воду.\n",
        "Вода, будучи водой, обладает свойствами, характерными для воды.\n",
        "Ее молекулы, составляющие воду, образуют воду, которая является водой.\n",
        "Таким образом, вода, будучи водой, является водой.'''"
      ]
    },
    {
      "cell_type": "code",
      "source": [
        "import nltk\n",
        "import nltk.stem\n",
        "from nltk import word_tokenize"
      ],
      "metadata": {
        "id": "APH2N94adsue"
      },
      "id": "APH2N94adsue",
      "execution_count": null,
      "outputs": []
    },
    {
      "cell_type": "code",
      "source": [
        "nltk.download('punkt')"
      ],
      "metadata": {
        "colab": {
          "base_uri": "https://localhost:8080/"
        },
        "id": "SM6gBH6_eTdl",
        "outputId": "cc167df8-e815-4a8b-c4c4-2b62158348fa"
      },
      "id": "SM6gBH6_eTdl",
      "execution_count": null,
      "outputs": [
        {
          "output_type": "stream",
          "name": "stderr",
          "text": [
            "[nltk_data] Downloading package punkt to /root/nltk_data...\n",
            "[nltk_data]   Unzipping tokenizers/punkt.zip.\n"
          ]
        },
        {
          "output_type": "execute_result",
          "data": {
            "text/plain": [
              "True"
            ]
          },
          "metadata": {},
          "execution_count": 17
        }
      ]
    },
    {
      "cell_type": "code",
      "source": [
        "words = word_tokenize(text.lower())\n",
        "words[:5]"
      ],
      "metadata": {
        "colab": {
          "base_uri": "https://localhost:8080/"
        },
        "id": "EN1mDyineA6_",
        "outputId": "89a68ae4-068d-4d93-b6c9-0e97a59110ac"
      },
      "id": "EN1mDyineA6_",
      "execution_count": null,
      "outputs": [
        {
          "output_type": "execute_result",
          "data": {
            "text/plain": [
              "['вода', '-', 'это', 'жидкость', ',']"
            ]
          },
          "metadata": {},
          "execution_count": 22
        }
      ]
    },
    {
      "cell_type": "code",
      "source": [
        "# text.split()"
      ],
      "metadata": {
        "id": "F9PaMdCheYTa"
      },
      "id": "F9PaMdCheYTa",
      "execution_count": null,
      "outputs": []
    },
    {
      "cell_type": "code",
      "source": [
        "from nltk.tokenize import RegexpTokenizer\n",
        "\n",
        "tokenizer = RegexpTokenizer(r\"\\w+\")\n",
        "words = tokenizer.tokenize(text.lower())\n",
        "words[:5]"
      ],
      "metadata": {
        "colab": {
          "base_uri": "https://localhost:8080/"
        },
        "id": "Kogo94RretAw",
        "outputId": "92e92354-f18c-40eb-9435-977005d1fd13"
      },
      "id": "Kogo94RretAw",
      "execution_count": null,
      "outputs": [
        {
          "output_type": "execute_result",
          "data": {
            "text/plain": [
              "['вода', 'это', 'жидкость', 'которая', 'имеет']"
            ]
          },
          "metadata": {},
          "execution_count": 24
        }
      ]
    },
    {
      "cell_type": "code",
      "source": [
        "import pandas as pd"
      ],
      "metadata": {
        "id": "BS8jPpt9ftos"
      },
      "id": "BS8jPpt9ftos",
      "execution_count": null,
      "outputs": []
    },
    {
      "cell_type": "code",
      "source": [
        "stemmer = nltk.stem.SnowballStemmer(\"russian\")\n",
        "stemmed = pd.Series([stemmer.stem(w) for w in words])\n",
        "stemmed.value_counts()"
      ],
      "metadata": {
        "id": "1FmegWjofFEO"
      },
      "id": "1FmegWjofFEO",
      "execution_count": null,
      "outputs": []
    },
    {
      "cell_type": "code",
      "source": [
        "!pip install pymorphy2"
      ],
      "metadata": {
        "id": "_E9ir_49gIEV"
      },
      "id": "_E9ir_49gIEV",
      "execution_count": null,
      "outputs": []
    },
    {
      "cell_type": "code",
      "source": [
        "import pymorphy2"
      ],
      "metadata": {
        "id": "G738TgjTf5tk"
      },
      "id": "G738TgjTf5tk",
      "execution_count": null,
      "outputs": []
    },
    {
      "cell_type": "code",
      "source": [
        "morph = pymorphy2.MorphAnalyzer()"
      ],
      "metadata": {
        "id": "eNS1V_DEgQSR"
      },
      "id": "eNS1V_DEgQSR",
      "execution_count": null,
      "outputs": []
    },
    {
      "cell_type": "code",
      "source": [
        "lemmatized = pd.Series([morph.parse(w)[0].normal_form for w in words])\n",
        "lemmatized.value_counts()"
      ],
      "metadata": {
        "colab": {
          "base_uri": "https://localhost:8080/"
        },
        "id": "mIJA7G1pgSTq",
        "outputId": "4fb3be90-92d6-4e05-9728-0609569a5b9f"
      },
      "id": "mIJA7G1pgSTq",
      "execution_count": null,
      "outputs": [
        {
          "output_type": "execute_result",
          "data": {
            "text/plain": [
              "вода           12\n",
              "который         3\n",
              "быть            3\n",
              "являться        2\n",
              "свойство        2\n",
              "она             2\n",
              "молекула        2\n",
              "образовать      2\n",
              "характерный     1\n",
              "такой           1\n",
              "составлять      1\n",
              "для             1\n",
              "из              1\n",
              "обладать        1\n",
              "это             1\n",
              "состоять        1\n",
              "иметь           1\n",
              "жидкость        1\n",
              "образ           1\n",
              "dtype: int64"
            ]
          },
          "metadata": {},
          "execution_count": 37
        }
      ]
    },
    {
      "cell_type": "markdown",
      "id": "610d0f40",
      "metadata": {
        "id": "610d0f40"
      },
      "source": [
        "## Задачи для самостоятельного решения"
      ]
    },
    {
      "cell_type": "markdown",
      "id": "fbde51b1",
      "metadata": {
        "id": "fbde51b1"
      },
      "source": [
        "<p class=\"task\" id=\"1\"></p>\n",
        "\n",
        "1\\. Исследуйте, какие формы слова \"кот\" или \"кошка\" встречаются в текстах из файла `moya-semia/Лучше кошки зверя нет 2.csv`. Сгруппируйте найденные слова по начальной форме и представьте результата в виде словаря, где ключом является начальная форма слова, а значением - список форм этого слова, которые встретились в тексте. Примеры подходящих слов: \"котейки\", \"кошечка\", \"котик\" и т.д."
      ]
    },
    {
      "cell_type": "markdown",
      "id": "152aa3e4",
      "metadata": {
        "id": "152aa3e4"
      },
      "source": [
        "<p class=\"task\" id=\"2\"></p>\n",
        "\n",
        "2\\. Получите и выведите на экран набор имён питомцев, упомянутых в текстах из файла `moya-semia/Лучше кошки зверя нет 2.csv`. Для простоты считайте, что имя питомца начинается с заглавной буквы и стоит не в начале предложения."
      ]
    },
    {
      "cell_type": "markdown",
      "id": "cbf0aa6d",
      "metadata": {
        "id": "cbf0aa6d"
      },
      "source": [
        "<p class=\"task\" id=\"3\"></p>\n",
        "\n",
        "3\\. Вычислите среднюю длину сообщения (в количестве предложений) в различных темах форума газеты \"Моя Семья\" (каждый файл из каталога `data/moya-semia` соответствует отдельной теме\". Представьте результат в виде столбчатой диаграммы. Подпишите рисунок и дайте названия осям.  "
      ]
    },
    {
      "cell_type": "markdown",
      "id": "4b1d5ccb",
      "metadata": {
        "id": "4b1d5ccb"
      },
      "source": [
        "<p class=\"task\" id=\"4\"></p>\n",
        "\n",
        "4\\. Замените все текстовые смайлики из файла `livejounal/психология.csv` на соответствующие символы юникода. Для поиска смайликов воспользуйтесь регулярными выражениями. Ниже представлен список (не исчерпывающий) примеров возможных смайликов и символ, на который их нужно заменить:\n",
        "\n",
        "* :=), =-), =-))), ))) и т.д. -> \\u263A\n",
        "* ;), ;-), ;-)) и т.д. -> \\U0001F609\n",
        "* :D, :-D, =-D, =-DDD и т.д. -> \\U0001F600\n",
        "* :=(, :-(, =-(((, (((, ;-( и т.д. -> \\U0001F641"
      ]
    },
    {
      "cell_type": "markdown",
      "id": "3948f093",
      "metadata": {
        "id": "3948f093"
      },
      "source": [
        "<p class=\"task\" id=\"5\"></p>\n",
        "\n",
        "5\\. Для каждого поста из файла `livejounal/психология.csv` создайте числовой вектор, в котором содержится следующая информация\n",
        "\n",
        "* количество абзацев\n",
        "* количество предложений\n",
        "* количество слов\n",
        "* количество смайликов \\u263A\n",
        "* количество смайликов \\U0001F609\n",
        "* количество смайликов \\U0001F600\n",
        "* количество смайликов \\U0001F641"
      ]
    },
    {
      "cell_type": "markdown",
      "id": "e516d2ca",
      "metadata": {
        "id": "e516d2ca"
      },
      "source": [
        "<p class=\"task\" id=\"6\"></p>\n",
        "\n",
        "6\\. На основе файла `livejounal/психология.csv` выясните, кто из пользователей обладает наиболее широким словарным запасом (т.е. использовал максимальное количество различных слов в своих постах). При подсчете количества слов не учитывайте различные формы одного и того же слова, а также токены, не являющиеся словами (знаки препинания, цифры и т.д.). Выведите на экран имя пользователя и набор используемых им различных слов."
      ]
    }
  ],
  "metadata": {
    "kernelspec": {
      "display_name": "Python 3 (ipykernel)",
      "language": "python",
      "name": "python3"
    },
    "language_info": {
      "codemirror_mode": {
        "name": "ipython",
        "version": 3
      },
      "file_extension": ".py",
      "mimetype": "text/x-python",
      "name": "python",
      "nbconvert_exporter": "python",
      "pygments_lexer": "ipython3",
      "version": "3.10.0"
    },
    "colab": {
      "provenance": [],
      "include_colab_link": true
    }
  },
  "nbformat": 4,
  "nbformat_minor": 5
}